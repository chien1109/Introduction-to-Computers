{
  "nbformat": 4,
  "nbformat_minor": 0,
  "metadata": {
    "colab": {
      "name": "0509.ipynb",
      "provenance": [],
      "authorship_tag": "ABX9TyN0Ruq4edz33EnaRgh1l5Nk",
      "include_colab_link": true
    },
    "kernelspec": {
      "name": "python3",
      "display_name": "Python 3"
    },
    "language_info": {
      "name": "python"
    }
  },
  "cells": [
    {
      "cell_type": "markdown",
      "metadata": {
        "id": "view-in-github",
        "colab_type": "text"
      },
      "source": [
        "<a href=\"https://colab.research.google.com/github/chien1109/Introduction-to-Computers/blob/main/0509.ipynb\" target=\"_parent\"><img src=\"https://colab.research.google.com/assets/colab-badge.svg\" alt=\"Open In Colab\"/></a>"
      ]
    },
    {
      "cell_type": "code",
      "execution_count": null,
      "metadata": {
        "colab": {
          "base_uri": "https://localhost:8080/"
        },
        "id": "DprXIQ9Y7nHb",
        "outputId": "f0393bd1-6abc-4914-e82a-bbada27d6cea"
      },
      "outputs": [
        {
          "output_type": "stream",
          "name": "stdout",
          "text": [
            "123\n"
          ]
        }
      ],
      "source": [
        "print(\"123\")"
      ]
    },
    {
      "cell_type": "code",
      "source": [
        "temp=float(input(\"請輸入你的體溫\"))\n",
        "if temp>=37.5:\n",
        "  print(\"體溫過高！\")\n",
        "elif temp>=37 and temp<37.4:\n",
        "  print(\"體溫略高！\")\n",
        "elif temp>=37 and temp<=36.9:\n",
        "  print(\"體溫正常!\")\n",
        "else:\n",
        "  print(\"體溫異常，請重新量測!\")"
      ],
      "metadata": {
        "colab": {
          "base_uri": "https://localhost:8080/"
        },
        "id": "J_3HFrk17rqS",
        "outputId": "7d458b84-682e-420e-ca57-d22b08902a33"
      },
      "execution_count": null,
      "outputs": [
        {
          "output_type": "stream",
          "name": "stdout",
          "text": [
            "請輸入你的體溫33.9\n",
            "體溫異常，請重新量測!\n"
          ]
        }
      ]
    },
    {
      "cell_type": "code",
      "source": [
        "money=int(input(\"請輸入購物金額:\"))\n",
        "if(money>=10000):\n",
        " if(money>=100000):\n",
        "  print(\"八折\",money*0.8,end=\"元\\n\")\n",
        " elif(money>=50000):\n",
        "  print(\"八五折\",money*0.85,end=\"元\\n\")\n",
        " elif(money>=30000):\n",
        "  print(\"九折\",money*0.9,end=\"元\\n\")\n",
        " else:\n",
        "   print(\"九五折\",money*0.95,end=\"元\\n\")\n",
        "else:\n",
        "  print(\"沒打折\",money,end=\"元\\n\")"
      ],
      "metadata": {
        "id": "ocllIJag-fpJ",
        "colab": {
          "base_uri": "https://localhost:8080/"
        },
        "outputId": "ad68925b-db1d-40a6-cc00-a23a23421401"
      },
      "execution_count": 1,
      "outputs": [
        {
          "output_type": "stream",
          "name": "stdout",
          "text": [
            "請輸入購物金額:1200000\n",
            "八折 960000.0元\n"
          ]
        }
      ]
    },
    {
      "cell_type": "code",
      "source": [
        "成績=input('請輸入成績')\n",
        "if(int(成績)>=90):\n",
        "  print('A')\n",
        "elif(int(成績)>=80):\n",
        "  print('B')\n",
        "elif(int(成績)>=70):\n",
        "  print('C')\n",
        "elif(int(成績)>=60):\n",
        "  print('D')\n",
        "else:\n",
        "  print('E')"
      ],
      "metadata": {
        "colab": {
          "base_uri": "https://localhost:8080/"
        },
        "id": "HBS5QozWDMWJ",
        "outputId": "88920f89-c38f-4a9d-b108-959b8b4bf5e4"
      },
      "execution_count": 2,
      "outputs": [
        {
          "output_type": "stream",
          "name": "stdout",
          "text": [
            "請輸入成績50\n",
            "E\n"
          ]
        }
      ]
    },
    {
      "cell_type": "code",
      "source": [
        "月份=int(input(\"請輸入月份\"))\n",
        "if(月份>=3 and 月份<=5):\n",
        "  print(月份,\"月是春天!\")\n",
        "elif(月份>=6 and 月份<=8):\n",
        "  print(月份,\"月是夏天!\")\n",
        "elif(月份>=9 and 月份<=11):\n",
        "  print(月份,\"月是秋天!\")\n",
        "elif(月份>11 and 月份<13):\n",
        "  print(月份,\"月是冬天!\")\n",
        "elif(月份>0 and 月份<3):\n",
        "  print(月份,\"月是冬天!\")\n",
        "else:\n",
        "  print(\"月份不在範圍內!\")"
      ],
      "metadata": {
        "colab": {
          "base_uri": "https://localhost:8080/"
        },
        "id": "qlmVd_c_EECc",
        "outputId": "cbc3c981-80e3-4369-c2f4-a8c53cdbbebf"
      },
      "execution_count": 12,
      "outputs": [
        {
          "output_type": "stream",
          "name": "stdout",
          "text": [
            "請輸入月份5\n",
            "5 月是春天!\n"
          ]
        }
      ]
    },
    {
      "cell_type": "code",
      "source": [
        "收入=int(input(\"請輸入今年收入淨額:\"))\n",
        "if(收入>=300000):\n",
        " if(收入>=300000 and 收入<600000):\n",
        "   print(\"付稅金額:\",收入*0.06,end=\"元\\n\")\n",
        " elif(收入>=600000 and 收入<1000000):\n",
        "   print(\"付稅金額:\",收入*0.13,end=\"元\\n\")\n",
        " elif(收入>=1000000 and 收入<2000000):\n",
        "   print(\"付稅金額:\",收入*0.21,end=\"元\\n\")\n",
        " elif(收入>=2000000):\n",
        "   print(\"付稅金額:\",收入*0.3,end=\"元\\n\")\n",
        "else:\n",
        "  print(\"付稅金額:0元\")\n"
      ],
      "metadata": {
        "colab": {
          "base_uri": "https://localhost:8080/"
        },
        "id": "Z3FSRzKwHiQ9",
        "outputId": "29438d7d-ce2f-4417-d4fb-4cbb9e2bde0a"
      },
      "execution_count": 17,
      "outputs": [
        {
          "output_type": "stream",
          "name": "stdout",
          "text": [
            "請輸入今年收入淨額:2000000\n",
            "付稅金額: 600000.0元\n"
          ]
        }
      ]
    }
  ]
}